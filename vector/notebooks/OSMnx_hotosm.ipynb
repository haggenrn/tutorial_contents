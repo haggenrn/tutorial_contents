{
 "cells": [
  {
   "cell_type": "markdown",
   "metadata": {},
   "source": [
    "# Extracting and processing OpenStreetMap (OSM) vector features\n",
    "\n",
    "[GeoHackWeek 2019](https://geohackweek.github.io) -- [vector tutorial](https://geohackweek.github.io/vector/)   \n",
    "[Emilio Mayorga, University of Washington](https://github.com/emiliom/). 2019-9-9"
   ]
  },
  {
   "cell_type": "markdown",
   "metadata": {},
   "source": [
    "## 1. Introduction"
   ]
  },
  {
   "cell_type": "markdown",
   "metadata": {},
   "source": [
    "This notebook will demonstrate the use of the [OSMnx package](https://osmnx.readthedocs.io) to request and access OSM vector data and convert from the source \"graph\" data structure to familiar GeoPandas GeoDataFrames. It will highlight the distinct pathways for accessing building footprints vs. other physical features, focusing on water features. The area of interest is the \"hotosm\" task area used in this GeoHackWeek."
   ]
  },
  {
   "cell_type": "markdown",
   "metadata": {},
   "source": [
    "## 2. Import packages"
   ]
  },
  {
   "cell_type": "code",
   "execution_count": 1,
   "metadata": {},
   "outputs": [
    {
     "ename": "ModuleNotFoundError",
     "evalue": "No module named 'utm'",
     "output_type": "error",
     "traceback": [
      "\u001b[0;31m---------------------------------------------------------------------------\u001b[0m",
      "\u001b[0;31mModuleNotFoundError\u001b[0m                       Traceback (most recent call last)",
      "\u001b[0;32m<ipython-input-1-fa6a73f14ac1>\u001b[0m in \u001b[0;36m<module>\u001b[0;34m\u001b[0m\n\u001b[1;32m      3\u001b[0m \u001b[0;34m\u001b[0m\u001b[0m\n\u001b[1;32m      4\u001b[0m \u001b[0;32mimport\u001b[0m \u001b[0mgeopandas\u001b[0m \u001b[0;32mas\u001b[0m \u001b[0mgpd\u001b[0m\u001b[0;34m\u001b[0m\u001b[0;34m\u001b[0m\u001b[0m\n\u001b[0;32m----> 5\u001b[0;31m \u001b[0;32mimport\u001b[0m \u001b[0mutm\u001b[0m\u001b[0;34m\u001b[0m\u001b[0;34m\u001b[0m\u001b[0m\n\u001b[0m\u001b[1;32m      6\u001b[0m \u001b[0;34m\u001b[0m\u001b[0m\n\u001b[1;32m      7\u001b[0m \u001b[0;32mimport\u001b[0m \u001b[0mosmnx\u001b[0m \u001b[0;32mas\u001b[0m \u001b[0mox\u001b[0m\u001b[0;34m\u001b[0m\u001b[0;34m\u001b[0m\u001b[0m\n",
      "\u001b[0;31mModuleNotFoundError\u001b[0m: No module named 'utm'"
     ]
    }
   ],
   "source": [
    "import matplotlib.pyplot as plt\n",
    "%matplotlib inline\n",
    "\n",
    "import geopandas as gpd\n",
    "import utm\n",
    "\n",
    "import osmnx as ox\n",
    "ox.config(use_cache=True, log_console=True)"
   ]
  },
  {
   "cell_type": "code",
   "execution_count": 2,
   "metadata": {},
   "outputs": [
    {
     "ename": "NameError",
     "evalue": "name 'ox' is not defined",
     "output_type": "error",
     "traceback": [
      "\u001b[0;31m---------------------------------------------------------------------------\u001b[0m",
      "\u001b[0;31mNameError\u001b[0m                                 Traceback (most recent call last)",
      "\u001b[0;32m<ipython-input-2-b3edb50254fd>\u001b[0m in \u001b[0;36m<module>\u001b[0;34m\u001b[0m\n\u001b[0;32m----> 1\u001b[0;31m \u001b[0mgpd\u001b[0m\u001b[0;34m.\u001b[0m\u001b[0m__version__\u001b[0m\u001b[0;34m,\u001b[0m \u001b[0mox\u001b[0m\u001b[0;34m.\u001b[0m\u001b[0m__version__\u001b[0m\u001b[0;34m\u001b[0m\u001b[0;34m\u001b[0m\u001b[0m\n\u001b[0m",
      "\u001b[0;31mNameError\u001b[0m: name 'ox' is not defined"
     ]
    }
   ],
   "source": [
    "gpd.__version__, ox.__version__"
   ]
  },
  {
   "cell_type": "markdown",
   "metadata": {},
   "source": [
    "## 3. Project area bounding box, from hotosm task 5977\n",
    "The target area corresponds to [hotosm task 5977, Cyclone Kenneth, Comores: Nzwani Central Buildings 1](https://tasks.hotosm.org/project/5977), which has a **bounding box defined below.**"
   ]
  },
  {
   "cell_type": "markdown",
   "metadata": {},
   "source": [
    "<div class=\"alert alert-info\" style=\"font-size:100%\">\n",
    "\n",
    "On Day 1 we used a different hotosm task to digitize polygons: https://tasks.hotosm.org/project/6558\n",
    "\n",
    "</div>"
   ]
  },
  {
   "cell_type": "code",
   "execution_count": 3,
   "metadata": {},
   "outputs": [
    {
     "data": {
      "text/plain": [
       "[43.2, -11.74, 43.33, -11.85]"
      ]
     },
     "execution_count": 3,
     "metadata": {},
     "output_type": "execute_result"
    }
   ],
   "source": [
    "# hotosm task 5977 bounding box. We won't use it here, but it's a good reference to have\n",
    "bbox_hotosmtask5977 = [43.16, -11.32, 43.54, -11.96]\n",
    "\n",
    "# We'll use a smaller bounding box near the southwest corner.\n",
    "# This is so we're dealing with smaller datasets, for faster processing and to be gentler on the hotosm servers\n",
    "bbox = [43.2, -11.74, 43.33, -11.85]\n",
    "west, north, east, south = bbox\n",
    "bbox_ctr = [0.5*(north+south), 0.5*(west+east)]\n",
    "\n",
    "bbox"
   ]
  },
  {
   "cell_type": "markdown",
   "metadata": {},
   "source": [
    "## 4. Use OSMnx to extract and explore building footprints"
   ]
  },
  {
   "cell_type": "markdown",
   "metadata": {},
   "source": [
    "<div class=\"alert alert-info\" style=\"font-size:100%\">\n",
    "\n",
    "You can learn ore about the `OSMnx` footprints capability at https://github.com/gboeing/osmnx-examples/blob/master/notebooks/10-building-footprints.ipynb and https://osmnx.readthedocs.io/en/stable/osmnx.html#module-osmnx.footprints\n",
    "    \n",
    "</div>"
   ]
  },
  {
   "cell_type": "markdown",
   "metadata": {},
   "source": [
    "### Read the footprints on a bbox, and return as a GeoPandas GeoDataFrame\n",
    "The `create_footprints_gf` function will return a polygon GeoDataFrame in epsg 4326 projection. Features might be returned as both `Polygon` and `MultiPolygon`, but I don't know for sure."
   ]
  },
  {
   "cell_type": "code",
   "execution_count": 4,
   "metadata": {},
   "outputs": [],
   "source": [
    "buildings_gdf = ox.create_footprints_gdf(north=north, south=south, east=east, west=west,\n",
    "                                         footprint_type='building')"
   ]
  },
  {
   "cell_type": "code",
   "execution_count": 5,
   "metadata": {},
   "outputs": [
    {
     "data": {
      "text/plain": [
       "'+proj=longlat +ellps=WGS84 +datum=WGS84 +no_defs'"
      ]
     },
     "execution_count": 5,
     "metadata": {},
     "output_type": "execute_result"
    }
   ],
   "source": [
    "# Yikes, this is not the nice and simple epsg code. It's an ugly `proj` string. Oh well.\n",
    "buildings_gdf.crs"
   ]
  },
  {
   "cell_type": "code",
   "execution_count": 6,
   "metadata": {},
   "outputs": [
    {
     "data": {
      "text/plain": [
       "2046"
      ]
     },
     "execution_count": 6,
     "metadata": {},
     "output_type": "execute_result"
    }
   ],
   "source": [
    "# Number of buildings returned\n",
    "len(buildings_gdf)"
   ]
  },
  {
   "cell_type": "code",
   "execution_count": 7,
   "metadata": {},
   "outputs": [
    {
     "data": {
      "image/png": "[encoded data removed]",
      "text/plain": [
       "<Figure size 432x288 with 1 Axes>"
      ]
     },
     "metadata": {
      "needs_background": "light"
     },
     "output_type": "display_data"
    }
   ],
   "source": [
    "buildings_gdf.plot(edgecolor='red', linewidth=2);"
   ]
  },
  {
   "cell_type": "code",
   "execution_count": 37,
   "metadata": {},
   "outputs": [
    {
     "data": {
      "text/plain": [
       "array(['Polygon'], dtype=object)"
      ]
     },
     "execution_count": 37,
     "metadata": {},
     "output_type": "execute_result"
    }
   ],
   "source": [
    "# All geometries are Polygon type; no MultiPolygon geometries\n",
    "buildings_gdf.geom_type.unique()"
   ]
  },
  {
   "cell_type": "code",
   "execution_count": 8,
   "metadata": {},
   "outputs": [
    {
     "data": {
      "text/plain": [
       "Index(['nodes', 'geometry', 'building', 'name', 'amenity', 'denomination',\n",
       "       'religion', 'source', 'source_1', 'building:levels', 'area', 'length',\n",
       "       'building:condition', 'building:material', 'comoros-dgsc:code',\n",
       "       'roof:material', 'source:geometry', 'office', 'height', 'addr:city',\n",
       "       'shop', 'addr:street'],\n",
       "      dtype='object')"
      ]
     },
     "execution_count": 8,
     "metadata": {},
     "output_type": "execute_result"
    }
   ],
   "source": [
    "buildings_gdf.columns"
   ]
  },
  {
   "cell_type": "code",
   "execution_count": 9,
   "metadata": {},
   "outputs": [
    {
     "data": {
      "text/html": [
       "<div>\n",
       "<style scoped>\n",
       "    .dataframe tbody tr th:only-of-type {\n",
       "        vertical-align: middle;\n",
       "    }\n",
       "\n",
       "    .dataframe tbody tr th {\n",
       "        vertical-align: top;\n",
       "    }\n",
       "\n",
       "    .dataframe thead th {\n",
       "        text-align: right;\n",
       "    }\n",
       "</style>\n",
       "<table border=\"1\" class=\"dataframe\">\n",
       "  <thead>\n",
       "    <tr style=\"text-align: right;\">\n",
       "      <th></th>\n",
       "      <th>nodes</th>\n",
       "      <th>geometry</th>\n",
       "      <th>building</th>\n",
       "      <th>name</th>\n",
       "      <th>amenity</th>\n",
       "      <th>denomination</th>\n",
       "      <th>religion</th>\n",
       "      <th>source</th>\n",
       "      <th>source_1</th>\n",
       "      <th>building:levels</th>\n",
       "      <th>...</th>\n",
       "      <th>building:condition</th>\n",
       "      <th>building:material</th>\n",
       "      <th>comoros-dgsc:code</th>\n",
       "      <th>roof:material</th>\n",
       "      <th>source:geometry</th>\n",
       "      <th>office</th>\n",
       "      <th>height</th>\n",
       "      <th>addr:city</th>\n",
       "      <th>shop</th>\n",
       "      <th>addr:street</th>\n",
       "    </tr>\n",
       "  </thead>\n",
       "  <tbody>\n",
       "    <tr>\n",
       "      <td>369069459</td>\n",
       "      <td>[3728944964, 3728944967, 3728944936, 372894495...</td>\n",
       "      <td>POLYGON ((43.2794523 -11.80665, 43.2795914 -11...</td>\n",
       "      <td>yes</td>\n",
       "      <td>NaN</td>\n",
       "      <td>NaN</td>\n",
       "      <td>NaN</td>\n",
       "      <td>NaN</td>\n",
       "      <td>NaN</td>\n",
       "      <td>NaN</td>\n",
       "      <td>NaN</td>\n",
       "      <td>...</td>\n",
       "      <td>NaN</td>\n",
       "      <td>NaN</td>\n",
       "      <td>NaN</td>\n",
       "      <td>NaN</td>\n",
       "      <td>NaN</td>\n",
       "      <td>NaN</td>\n",
       "      <td>NaN</td>\n",
       "      <td>NaN</td>\n",
       "      <td>NaN</td>\n",
       "      <td>NaN</td>\n",
       "    </tr>\n",
       "    <tr>\n",
       "      <td>369069461</td>\n",
       "      <td>[3728944944, 3728944958, 3728944961, 372894495...</td>\n",
       "      <td>POLYGON ((43.2794037 -11.806205, 43.2794912 -1...</td>\n",
       "      <td>yes</td>\n",
       "      <td>NaN</td>\n",
       "      <td>NaN</td>\n",
       "      <td>NaN</td>\n",
       "      <td>NaN</td>\n",
       "      <td>NaN</td>\n",
       "      <td>NaN</td>\n",
       "      <td>NaN</td>\n",
       "      <td>...</td>\n",
       "      <td>NaN</td>\n",
       "      <td>NaN</td>\n",
       "      <td>NaN</td>\n",
       "      <td>NaN</td>\n",
       "      <td>NaN</td>\n",
       "      <td>NaN</td>\n",
       "      <td>NaN</td>\n",
       "      <td>NaN</td>\n",
       "      <td>NaN</td>\n",
       "      <td>NaN</td>\n",
       "    </tr>\n",
       "    <tr>\n",
       "      <td>369069462</td>\n",
       "      <td>[3728944954, 3728944966, 3728944946, 372894495...</td>\n",
       "      <td>POLYGON ((43.2796457 -11.8069795, 43.2797118 -...</td>\n",
       "      <td>yes</td>\n",
       "      <td>NaN</td>\n",
       "      <td>NaN</td>\n",
       "      <td>NaN</td>\n",
       "      <td>NaN</td>\n",
       "      <td>NaN</td>\n",
       "      <td>NaN</td>\n",
       "      <td>NaN</td>\n",
       "      <td>...</td>\n",
       "      <td>NaN</td>\n",
       "      <td>NaN</td>\n",
       "      <td>NaN</td>\n",
       "      <td>NaN</td>\n",
       "      <td>NaN</td>\n",
       "      <td>NaN</td>\n",
       "      <td>NaN</td>\n",
       "      <td>NaN</td>\n",
       "      <td>NaN</td>\n",
       "      <td>NaN</td>\n",
       "    </tr>\n",
       "    <tr>\n",
       "      <td>369069463</td>\n",
       "      <td>[3728944948, 3728944938, 3728944965, 372894496...</td>\n",
       "      <td>POLYGON ((43.2790613 -11.8066263, 43.2791229 -...</td>\n",
       "      <td>yes</td>\n",
       "      <td>NaN</td>\n",
       "      <td>NaN</td>\n",
       "      <td>NaN</td>\n",
       "      <td>NaN</td>\n",
       "      <td>NaN</td>\n",
       "      <td>NaN</td>\n",
       "      <td>NaN</td>\n",
       "      <td>...</td>\n",
       "      <td>NaN</td>\n",
       "      <td>NaN</td>\n",
       "      <td>NaN</td>\n",
       "      <td>NaN</td>\n",
       "      <td>NaN</td>\n",
       "      <td>NaN</td>\n",
       "      <td>NaN</td>\n",
       "      <td>NaN</td>\n",
       "      <td>NaN</td>\n",
       "      <td>NaN</td>\n",
       "    </tr>\n",
       "    <tr>\n",
       "      <td>369069465</td>\n",
       "      <td>[3728944942, 3728944962, 3728944963, 372894496...</td>\n",
       "      <td>POLYGON ((43.2791949 -11.8069023, 43.2792905 -...</td>\n",
       "      <td>yes</td>\n",
       "      <td>NaN</td>\n",
       "      <td>NaN</td>\n",
       "      <td>NaN</td>\n",
       "      <td>NaN</td>\n",
       "      <td>NaN</td>\n",
       "      <td>NaN</td>\n",
       "      <td>NaN</td>\n",
       "      <td>...</td>\n",
       "      <td>NaN</td>\n",
       "      <td>NaN</td>\n",
       "      <td>NaN</td>\n",
       "      <td>NaN</td>\n",
       "      <td>NaN</td>\n",
       "      <td>NaN</td>\n",
       "      <td>NaN</td>\n",
       "      <td>NaN</td>\n",
       "      <td>NaN</td>\n",
       "      <td>NaN</td>\n",
       "    </tr>\n",
       "  </tbody>\n",
       "</table>\n",
       "<p>5 rows × 22 columns</p>\n",
       "</div>"
      ],
      "text/plain": [
       "                                                       nodes  \\\n",
       "369069459  [3728944964, 3728944967, 3728944936, 372894495...   \n",
       "369069461  [3728944944, 3728944958, 3728944961, 372894495...   \n",
       "369069462  [3728944954, 3728944966, 3728944946, 372894495...   \n",
       "369069463  [3728944948, 3728944938, 3728944965, 372894496...   \n",
       "369069465  [3728944942, 3728944962, 3728944963, 372894496...   \n",
       "\n",
       "                                                    geometry building name  \\\n",
       "369069459  POLYGON ((43.2794523 -11.80665, 43.2795914 -11...      yes  NaN   \n",
       "369069461  POLYGON ((43.2794037 -11.806205, 43.2794912 -1...      yes  NaN   \n",
       "369069462  POLYGON ((43.2796457 -11.8069795, 43.2797118 -...      yes  NaN   \n",
       "369069463  POLYGON ((43.2790613 -11.8066263, 43.2791229 -...      yes  NaN   \n",
       "369069465  POLYGON ((43.2791949 -11.8069023, 43.2792905 -...      yes  NaN   \n",
       "\n",
       "          amenity denomination religion source source_1 building:levels  ...  \\\n",
       "369069459     NaN          NaN      NaN    NaN      NaN             NaN  ...   \n",
       "369069461     NaN          NaN      NaN    NaN      NaN             NaN  ...   \n",
       "369069462     NaN          NaN      NaN    NaN      NaN             NaN  ...   \n",
       "369069463     NaN          NaN      NaN    NaN      NaN             NaN  ...   \n",
       "369069465     NaN          NaN      NaN    NaN      NaN             NaN  ...   \n",
       "\n",
       "          building:condition building:material comoros-dgsc:code  \\\n",
       "369069459                NaN               NaN               NaN   \n",
       "369069461                NaN               NaN               NaN   \n",
       "369069462                NaN               NaN               NaN   \n",
       "369069463                NaN               NaN               NaN   \n",
       "369069465                NaN               NaN               NaN   \n",
       "\n",
       "          roof:material source:geometry office height addr:city shop  \\\n",
       "369069459           NaN             NaN    NaN    NaN       NaN  NaN   \n",
       "369069461           NaN             NaN    NaN    NaN       NaN  NaN   \n",
       "369069462           NaN             NaN    NaN    NaN       NaN  NaN   \n",
       "369069463           NaN             NaN    NaN    NaN       NaN  NaN   \n",
       "369069465           NaN             NaN    NaN    NaN       NaN  NaN   \n",
       "\n",
       "          addr:street  \n",
       "369069459         NaN  \n",
       "369069461         NaN  \n",
       "369069462         NaN  \n",
       "369069463         NaN  \n",
       "369069465         NaN  \n",
       "\n",
       "[5 rows x 22 columns]"
      ]
     },
     "execution_count": 9,
     "metadata": {},
     "output_type": "execute_result"
    }
   ],
   "source": [
    "buildings_gdf.head()"
   ]
  },
  {
   "cell_type": "markdown",
   "metadata": {},
   "source": [
    "### Explore the distributions of distinct values for some attributes"
   ]
  },
  {
   "cell_type": "code",
   "execution_count": 10,
   "metadata": {},
   "outputs": [
    {
     "data": {
      "text/plain": [
       "yes            1316\n",
       "residential     668\n",
       "apartments       18\n",
       "commercial       17\n",
       "mosque            9\n",
       "industrial        8\n",
       "public            6\n",
       "school            3\n",
       "house             1\n",
       "Name: building, dtype: int64"
      ]
     },
     "execution_count": 10,
     "metadata": {},
     "output_type": "execute_result"
    }
   ],
   "source": [
    "buildings_gdf['building'].value_counts()"
   ]
  },
  {
   "cell_type": "code",
   "execution_count": 11,
   "metadata": {},
   "outputs": [
    {
     "data": {
      "text/plain": [
       "place_of_worship    16\n",
       "community_centre     7\n",
       "marketplace          4\n",
       "school               4\n",
       "restaurant           1\n",
       "library              1\n",
       "Name: amenity, dtype: int64"
      ]
     },
     "execution_count": 11,
     "metadata": {},
     "output_type": "execute_result"
    }
   ],
   "source": [
    "buildings_gdf['amenity'].value_counts()"
   ]
  },
  {
   "cell_type": "code",
   "execution_count": 12,
   "metadata": {},
   "outputs": [
    {
     "data": {
      "text/plain": [
       "#opendri-comoros;survey                 752\n",
       "#osm4km                                 563\n",
       "#opendri-comoros                        190\n",
       "#opendri-comoros; DGSC; initial load     22\n",
       "DGCS-Comoros                              6\n",
       "Kaart Ground Survey 2017                  5\n",
       "Name: source, dtype: int64"
      ]
     },
     "execution_count": 12,
     "metadata": {},
     "output_type": "execute_result"
    }
   ],
   "source": [
    "buildings_gdf['source'].value_counts()"
   ]
  },
  {
   "cell_type": "code",
   "execution_count": 30,
   "metadata": {},
   "outputs": [
    {
     "data": {
      "text/plain": [
       "Bing        444\n",
       "bing        437\n",
       "BING         62\n",
       "mapquest     12\n",
       "1             2\n",
       "Name: source:geometry, dtype: int64"
      ]
     },
     "execution_count": 30,
     "metadata": {},
     "output_type": "execute_result"
    }
   ],
   "source": [
    "buildings_gdf['source:geometry'].value_counts()"
   ]
  },
  {
   "cell_type": "markdown",
   "metadata": {},
   "source": [
    "### ... and the distribution of building footprint area\n",
    "\n",
    "We'll reproject to [UTM](https://en.wikipedia.org/wiki/Universal_Transverse_Mercator_coordinate_system) in order to calculate building footprint polygon areas in $m^2$. First we need to identify EPSG code for the UTM Zone our lat-lon bounding box is in. For reference, we'll use use the `from_latlon` function from the [utm package](https://github.com/Turbo87/utm) to get the UTM Zone code. But we'll generate the EPSG code directly using a simple equation I found, using the latitude and longitude of the center of the bounding box. I found this equation (and related discussions) by Googling and landing on the [GIS StackExchange](https://gis.stackexchange.com): see [here](https://gis.stackexchange.com/questions/190198/how-to-get-appropriate-crs-for-a-position-specified-in-lat-lon-coordinates) and [here](https://gis.stackexchange.com/questions/269518/auto-select-suitable-utm-zone-based-on-grid-intersection)."
   ]
  },
  {
   "cell_type": "code",
   "execution_count": 13,
   "metadata": {},
   "outputs": [
    {
     "data": {
      "text/plain": [
       "((38, 'L'), 32738)"
      ]
     },
     "execution_count": 13,
     "metadata": {},
     "output_type": "execute_result"
    }
   ],
   "source": [
    "utmzone_code = utm.from_latlon(bbox_ctr[0], bbox_ctr[1])[-2:]\n",
    "utmzone_epsg = 32700 - round((45+bbox_ctr[0])/90)*100 + round((183+bbox_ctr[1])/6)\n",
    "utmzone_code, utmzone_epsg"
   ]
  },
  {
   "cell_type": "code",
   "execution_count": 14,
   "metadata": {},
   "outputs": [],
   "source": [
    "buildings_gdf_utm = buildings_gdf.to_crs(epsg=utmzone_epsg)"
   ]
  },
  {
   "cell_type": "code",
   "execution_count": 15,
   "metadata": {},
   "outputs": [],
   "source": [
    "building_area_m2 = buildings_gdf_utm.geometry.area"
   ]
  },
  {
   "cell_type": "markdown",
   "metadata": {},
   "source": [
    "Print out simple stats, then plot a slightly customized historgram."
   ]
  },
  {
   "cell_type": "code",
   "execution_count": 16,
   "metadata": {},
   "outputs": [
    {
     "data": {
      "text/plain": [
       "(1.4053317558159584, 132.18867198942908, 78.8650210469506, 2083.277673061675)"
      ]
     },
     "execution_count": 16,
     "metadata": {},
     "output_type": "execute_result"
    }
   ],
   "source": [
    "building_area_m2.min(), building_area_m2.mean(), building_area_m2.median(), building_area_m2.max()"
   ]
  },
  {
   "cell_type": "code",
   "execution_count": 17,
   "metadata": {},
   "outputs": [
    {
     "data": {
      "image/png": "[encoded data removed]",
      "text/plain": [
       "<Figure size 432x288 with 1 Axes>"
      ]
     },
     "metadata": {
      "needs_background": "light"
     },
     "output_type": "display_data"
    }
   ],
   "source": [
    "bins_seq = [i for i in range(0, 1000, 20)]\n",
    "buildings_gdf_utm.geometry.area.hist(bins=bins_seq);\n",
    "plt.xlabel('Building footprint area ($m^2$)');"
   ]
  },
  {
   "cell_type": "markdown",
   "metadata": {},
   "source": [
    "## 5. Extract waterways from OSM on the same bounding box, using OSMnx `graph_from_bbox`"
   ]
  },
  {
   "cell_type": "markdown",
   "metadata": {},
   "source": [
    "We'll use `graph_from_bbox` to request the \"network graph\" (*edges* and *nodes*, in graph speak), then convert the graph edges (lines) to a Linestring GeoDataFrame using OSMnx `graph_to_gdfs`. Note the arguments `network_type='none'` and `infrastructure` followed by string that starts with `way`. \"infrastructure\" is a generic label derived maybe too directly from the OSM focus on the built environment (roads, buildings, etc), but it's used in `OSMnx` to request any type of feature. We're using the `Other infrastructure` feature in OSMnx, illustrated at [this osmnx example notebook](https://github.com/gboeing/osmnx-examples/blob/master/notebooks/16-work-with-other-infrastructures.ipynb)."
   ]
  },
  {
   "cell_type": "markdown",
   "metadata": {},
   "source": [
    "<div class=\"alert alert-success\" style=\"font-size:100%\">\n",
    "<b style=\"font-size:120%\">Navigating and finding OSM tag types</b></br>\n",
    "\n",
    "OSM [\"represents physical features on the ground (e.g., roads or buildings) using tags attached to its basic data structures (its nodes, ways, and relations)\"](https://wiki.openstreetmap.org/wiki/Map_Features). OSM tags can be messy (if you ask me) and hard to navigate. Go to https://wiki.openstreetmap.org/wiki/Map_Features to navigate the (overlapping) hierarchies of tags. \"Waterways\" are found as multiple tag types; the most useful ones I found are \"Waterway\" and \"Natural\". You can learn more about the variety of waterway tags here:\n",
    "- https://wiki.openstreetmap.org/wiki/Waterways\n",
    "- https://wiki.openstreetmap.org/wiki/Map_Features#Waterway\n",
    "- https://wiki.openstreetmap.org/wiki/Map_Features#Water_related\n",
    "- https://stackoverflow.com/questions/55033816/plotting-importing-rivers-in-osmnx\n",
    "\n",
    "The OSM [Nominatim API](https://nominatim.org) may be of interest, too: \"Nominatim (from the Latin, 'by name') is a tool to search OSM data by name and address and to generate synthetic addresses of OSM points (reverse geocoding).\"\n",
    "\n",
    "</div>"
   ]
  },
  {
   "cell_type": "markdown",
   "metadata": {},
   "source": [
    "### Read `waterway` ways"
   ]
  },
  {
   "cell_type": "code",
   "execution_count": 18,
   "metadata": {},
   "outputs": [],
   "source": [
    "waterways_g = ox.graph_from_bbox(north=north, south=south, east=east, west=west,\n",
    "                                 network_type='none', infrastructure='way[\"waterway\"]',\n",
    "                                 retain_all=True, truncate_by_edge=True, simplify=False)"
   ]
  },
  {
   "cell_type": "code",
   "execution_count": 19,
   "metadata": {},
   "outputs": [
    {
     "data": {
      "text/plain": [
       "926"
      ]
     },
     "execution_count": 19,
     "metadata": {},
     "output_type": "execute_result"
    }
   ],
   "source": [
    "waterways_edges_gdf = ox.graph_to_gdfs(waterways_g, nodes=False)\n",
    "len(waterways_edges_gdf)"
   ]
  },
  {
   "cell_type": "code",
   "execution_count": 20,
   "metadata": {},
   "outputs": [
    {
     "data": {
      "text/html": [
       "<div>\n",
       "<style scoped>\n",
       "    .dataframe tbody tr th:only-of-type {\n",
       "        vertical-align: middle;\n",
       "    }\n",
       "\n",
       "    .dataframe tbody tr th {\n",
       "        vertical-align: top;\n",
       "    }\n",
       "\n",
       "    .dataframe thead th {\n",
       "        text-align: right;\n",
       "    }\n",
       "</style>\n",
       "<table border=\"1\" class=\"dataframe\">\n",
       "  <thead>\n",
       "    <tr style=\"text-align: right;\">\n",
       "      <th></th>\n",
       "      <th>u</th>\n",
       "      <th>v</th>\n",
       "      <th>key</th>\n",
       "      <th>osmid</th>\n",
       "      <th>name</th>\n",
       "      <th>oneway</th>\n",
       "      <th>length</th>\n",
       "      <th>geometry</th>\n",
       "    </tr>\n",
       "  </thead>\n",
       "  <tbody>\n",
       "    <tr>\n",
       "      <td>0</td>\n",
       "      <td>1019314269</td>\n",
       "      <td>1019932392</td>\n",
       "      <td>0</td>\n",
       "      <td>87706692</td>\n",
       "      <td>Pessini</td>\n",
       "      <td>False</td>\n",
       "      <td>110.747</td>\n",
       "      <td>LINESTRING (43.2640864 -11.8010712, 43.2650795...</td>\n",
       "    </tr>\n",
       "    <tr>\n",
       "      <td>1</td>\n",
       "      <td>1019932245</td>\n",
       "      <td>1019932388</td>\n",
       "      <td>0</td>\n",
       "      <td>87706693</td>\n",
       "      <td>NaN</td>\n",
       "      <td>False</td>\n",
       "      <td>47.895</td>\n",
       "      <td>LINESTRING (43.2760658 -11.7987359, 43.2756259...</td>\n",
       "    </tr>\n",
       "    <tr>\n",
       "      <td>2</td>\n",
       "      <td>1019932245</td>\n",
       "      <td>1019932287</td>\n",
       "      <td>0</td>\n",
       "      <td>87706693</td>\n",
       "      <td>NaN</td>\n",
       "      <td>False</td>\n",
       "      <td>88.895</td>\n",
       "      <td>LINESTRING (43.2760658 -11.7987359, 43.2768705...</td>\n",
       "    </tr>\n",
       "    <tr>\n",
       "      <td>3</td>\n",
       "      <td>1019932250</td>\n",
       "      <td>1019932358</td>\n",
       "      <td>0</td>\n",
       "      <td>87706692</td>\n",
       "      <td>Pessini</td>\n",
       "      <td>False</td>\n",
       "      <td>35.509</td>\n",
       "      <td>LINESTRING (43.2742955 -11.8005633, 43.2739737...</td>\n",
       "    </tr>\n",
       "    <tr>\n",
       "      <td>4</td>\n",
       "      <td>1019932250</td>\n",
       "      <td>1019932309</td>\n",
       "      <td>0</td>\n",
       "      <td>87706692</td>\n",
       "      <td>Pessini</td>\n",
       "      <td>False</td>\n",
       "      <td>28.244</td>\n",
       "      <td>LINESTRING (43.2742955 -11.8005633, 43.2744243...</td>\n",
       "    </tr>\n",
       "  </tbody>\n",
       "</table>\n",
       "</div>"
      ],
      "text/plain": [
       "            u           v  key     osmid     name  oneway   length  \\\n",
       "0  1019314269  1019932392    0  87706692  Pessini   False  110.747   \n",
       "1  1019932245  1019932388    0  87706693      NaN   False   47.895   \n",
       "2  1019932245  1019932287    0  87706693      NaN   False   88.895   \n",
       "3  1019932250  1019932358    0  87706692  Pessini   False   35.509   \n",
       "4  1019932250  1019932309    0  87706692  Pessini   False   28.244   \n",
       "\n",
       "                                            geometry  \n",
       "0  LINESTRING (43.2640864 -11.8010712, 43.2650795...  \n",
       "1  LINESTRING (43.2760658 -11.7987359, 43.2756259...  \n",
       "2  LINESTRING (43.2760658 -11.7987359, 43.2768705...  \n",
       "3  LINESTRING (43.2742955 -11.8005633, 43.2739737...  \n",
       "4  LINESTRING (43.2742955 -11.8005633, 43.2744243...  "
      ]
     },
     "execution_count": 20,
     "metadata": {},
     "output_type": "execute_result"
    }
   ],
   "source": [
    "waterways_edges_gdf.head()"
   ]
  },
  {
   "cell_type": "code",
   "execution_count": 21,
   "metadata": {},
   "outputs": [
    {
     "data": {
      "image/png": "[encoded data removed]",
      "text/plain": [
       "<Figure size 432x288 with 1 Axes>"
      ]
     },
     "metadata": {
      "needs_background": "light"
     },
     "output_type": "display_data"
    }
   ],
   "source": [
    "waterways_edges_gdf.plot();"
   ]
  },
  {
   "cell_type": "markdown",
   "metadata": {},
   "source": [
    "### Read `natural:water` ways\n",
    "The request is identical to the previous one, except for `infrastructure='way[\"natural\"~\"water\"]'`"
   ]
  },
  {
   "cell_type": "code",
   "execution_count": 22,
   "metadata": {},
   "outputs": [
    {
     "data": {
      "text/plain": [
       "56"
      ]
     },
     "execution_count": 22,
     "metadata": {},
     "output_type": "execute_result"
    }
   ],
   "source": [
    "natwater_g = ox.graph_from_bbox(north=north, south=south, east=east, west=west,\n",
    "                                network_type='none', infrastructure='way[\"natural\"~\"water\"]',\n",
    "                                retain_all=True, truncate_by_edge=True, simplify=False)\n",
    "\n",
    "natwater_edges_gdf = ox.graph_to_gdfs(natwater_g, nodes=False)\n",
    "len(natwater_edges_gdf)"
   ]
  },
  {
   "cell_type": "code",
   "execution_count": 23,
   "metadata": {},
   "outputs": [
    {
     "data": {
      "image/png": "[encoded data removed]",
      "text/plain": [
       "<Figure size 432x288 with 1 Axes>"
      ]
     },
     "metadata": {
      "needs_background": "light"
     },
     "output_type": "display_data"
    }
   ],
   "source": [
    "natwater_edges_gdf.plot();"
   ]
  },
  {
   "cell_type": "markdown",
   "metadata": {},
   "source": [
    "## 6. Let's put it all together: All OSM-derived layers on a single plot"
   ]
  },
  {
   "cell_type": "code",
   "execution_count": 24,
   "metadata": {},
   "outputs": [
    {
     "data": {
      "image/png": "[encoded data removed]",
      "text/plain": [
       "<Figure size 720x720 with 1 Axes>"
      ]
     },
     "metadata": {
      "needs_background": "light"
     },
     "output_type": "display_data"
    }
   ],
   "source": [
    "fig, ax = plt.subplots(figsize=(10, 10))\n",
    "waterways_edges_gdf.plot(ax=ax, linewidth=0.5)\n",
    "natwater_edges_gdf.plot(ax=ax, edgecolor='blue', linewidth=5)\n",
    "buildings_gdf.plot(ax=ax, edgecolor='red', linewidth=2);"
   ]
  },
  {
   "cell_type": "markdown",
   "metadata": {},
   "source": [
    "<div class=\"alert alert-success\" style=\"font-size:100%\">\n",
    "<b style=\"font-size:120%\">Use Holoviz to generate richer, more interactive plots</b></br>\n",
    "\n",
    "The next, \"bonus\" notebook provides a teaser of the Holoviz tool kit. After going over it on your own, try to map these OSM datasets using hvplot, Holoviews and the built-in tile sources they facilitate, including OSM map tiles.\n",
    "\n",
    "</div>"
   ]
  }
 ],
 "metadata": {
  "kernelspec": {
   "display_name": "Python 3",
   "language": "python",
   "name": "python3"
  },
  "language_info": {
   "codemirror_mode": {
    "name": "ipython",
    "version": 3
   },
   "file_extension": ".py",
   "mimetype": "text/x-python",
   "name": "python",
   "nbconvert_exporter": "python",
   "pygments_lexer": "ipython3",
   "version": "3.7.4"
  }
 },
 "nbformat": 4,
 "nbformat_minor": 4
}
